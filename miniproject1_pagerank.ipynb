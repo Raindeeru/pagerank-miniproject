{
 "cells": [
  {
   "cell_type": "markdown",
   "metadata": {
    "id": "0jERZq3TUOwN"
   },
   "source": [
    "# An Analysis of State Relevance on International Affairs through their Relevance in Armed Conflict"
   ]
  },
  {
   "cell_type": "markdown",
   "metadata": {
    "id": "--y8R9JWUP9f"
   },
   "source": [
    "## A.\n",
    "\n",
    "Analyses of states in terms of their international relevance usually revolve traditional analyses of measures such as their economy, military power, and diplomatic endeavors. This however does not take into account their relation in armed conflict around the world. Participation in conflict is arguably an important measure to take into account. Direct analysis of individual conflicts however is not enough and will not reflect that conflict and the states' involved impact on the international stage."
   ]
  },
  {
   "cell_type": "markdown",
   "metadata": {
    "id": "hcmaMjVIUQAB"
   },
   "source": [
    "## B.\n",
    "Using the PageRank algorithm we can create a network of states connected via their history of conflict between other states. Through this we can use the PageRank algorithm to determine a state's importance overall. What is solved here is that we do not only analyze local relevance, but rather the importance of state globally."
   ]
  },
  {
   "cell_type": "markdown",
   "metadata": {
    "id": "HTge3AobUQC7"
   },
   "source": [
    "## C.\n",
    "\n",
    "As mentioned, this will help in providing quantifiable data on a state's global relevance. Through this project we can find states that have the most relevance in terms of armed conflict. Hopefully the data found in this project will coincide with other metrics, as well as provide new insight."
   ]
  },
  {
   "cell_type": "markdown",
   "metadata": {},
   "source": [
    "# Collecting the Data"
   ]
  },
  {
   "cell_type": "code",
   "execution_count": 1,
   "metadata": {},
   "outputs": [],
   "source": [
    "import os\n",
    "import pandas as pd\n",
    "import numpy as np\n",
    "from io import BytesIO\n",
    "from zipfile import ZipFile\n",
    "from urllib.request import urlopen\n",
    "import networkx as nx\n",
    "from pyvis.network import Network\n",
    "import matplotlib.pyplot as plt\n",
    "import matplotlib.cm as cm\n",
    "import matplotlib.colors as mcolors\n",
    "import matplotlib"
   ]
  },
  {
   "cell_type": "code",
   "execution_count": 2,
   "metadata": {
    "id": "h-886Md3AGFn"
   },
   "outputs": [],
   "source": [
    "import os\n",
    "import pandas as pd\n",
    "import numpy as np\n",
    "from io import BytesIO\n",
    "from zipfile import ZipFile\n",
    "from urllib.request import urlopen\n",
    "\n",
    "zip_url = 'https://ucdp.uu.se/downloads/ucdpprio/ucdp-prio-acd-251-csv.zip'\n",
    "zip_filename = 'ucdp-prio-acd-251-csv.zip'\n",
    "csv_filename = 'UcdpPrioConflict_v25_1.csv'\n",
    "useful_columns = ['side_a', 'side_a_id', 'side_b', 'side_b_id']\n",
    "\n",
    "sides_df = None\n",
    "try:\n",
    "    # Download zip, store as bytes object\n",
    "    zip_data = None\n",
    "    with urlopen(zip_url) as zip_response:\n",
    "        zip_data = BytesIO(zip_response.read())\n",
    "\n",
    "    # Extract csv from zip, store as dataframe\n",
    "    with ZipFile(zip_data, 'r') as zip_file:\n",
    "        with zip_file.open(csv_filename) as csv_file:\n",
    "            sides_df = pd.read_csv(csv_file, usecols=useful_columns)\n",
    "\n",
    "except Exception as e:\n",
    "    print(f\"An error occurred: {e}\")"
   ]
  },
  {
   "cell_type": "code",
   "execution_count": 3,
   "metadata": {},
   "outputs": [
    {
     "data": {
      "text/html": [
       "<div>\n",
       "<style scoped>\n",
       "    .dataframe tbody tr th:only-of-type {\n",
       "        vertical-align: middle;\n",
       "    }\n",
       "\n",
       "    .dataframe tbody tr th {\n",
       "        vertical-align: top;\n",
       "    }\n",
       "\n",
       "    .dataframe thead th {\n",
       "        text-align: right;\n",
       "    }\n",
       "</style>\n",
       "<table border=\"1\" class=\"dataframe\">\n",
       "  <thead>\n",
       "    <tr style=\"text-align: right;\">\n",
       "      <th></th>\n",
       "      <th>side_a</th>\n",
       "      <th>side_a_id</th>\n",
       "      <th>side_b</th>\n",
       "      <th>side_b_id</th>\n",
       "    </tr>\n",
       "  </thead>\n",
       "  <tbody>\n",
       "    <tr>\n",
       "      <th>0</th>\n",
       "      <td>Government of India</td>\n",
       "      <td>141</td>\n",
       "      <td>GNLA</td>\n",
       "      <td>1163</td>\n",
       "    </tr>\n",
       "    <tr>\n",
       "      <th>1</th>\n",
       "      <td>Government of India</td>\n",
       "      <td>141</td>\n",
       "      <td>GNLA</td>\n",
       "      <td>1163</td>\n",
       "    </tr>\n",
       "    <tr>\n",
       "      <th>2</th>\n",
       "      <td>Government of Egypt</td>\n",
       "      <td>117</td>\n",
       "      <td>Government of Israel</td>\n",
       "      <td>121</td>\n",
       "    </tr>\n",
       "    <tr>\n",
       "      <th>3</th>\n",
       "      <td>Government of Egypt</td>\n",
       "      <td>117</td>\n",
       "      <td>Government of Israel</td>\n",
       "      <td>121</td>\n",
       "    </tr>\n",
       "    <tr>\n",
       "      <th>4</th>\n",
       "      <td>Government of Egypt</td>\n",
       "      <td>117</td>\n",
       "      <td>Government of Israel</td>\n",
       "      <td>121</td>\n",
       "    </tr>\n",
       "    <tr>\n",
       "      <th>...</th>\n",
       "      <td>...</td>\n",
       "      <td>...</td>\n",
       "      <td>...</td>\n",
       "      <td>...</td>\n",
       "    </tr>\n",
       "    <tr>\n",
       "      <th>2747</th>\n",
       "      <td>Government of Myanmar (Burma)</td>\n",
       "      <td>144</td>\n",
       "      <td>LNUP</td>\n",
       "      <td>889</td>\n",
       "    </tr>\n",
       "    <tr>\n",
       "      <th>2748</th>\n",
       "      <td>Government of Myanmar (Burma)</td>\n",
       "      <td>144</td>\n",
       "      <td>LNUP</td>\n",
       "      <td>889</td>\n",
       "    </tr>\n",
       "    <tr>\n",
       "      <th>2749</th>\n",
       "      <td>Government of Myanmar (Burma)</td>\n",
       "      <td>144</td>\n",
       "      <td>LNUP</td>\n",
       "      <td>889</td>\n",
       "    </tr>\n",
       "    <tr>\n",
       "      <th>2750</th>\n",
       "      <td>Government of Myanmar (Burma)</td>\n",
       "      <td>144</td>\n",
       "      <td>LNUP</td>\n",
       "      <td>889</td>\n",
       "    </tr>\n",
       "    <tr>\n",
       "      <th>2751</th>\n",
       "      <td>Government of Mauritania</td>\n",
       "      <td>74</td>\n",
       "      <td>AQIM</td>\n",
       "      <td>539</td>\n",
       "    </tr>\n",
       "  </tbody>\n",
       "</table>\n",
       "<p>2752 rows × 4 columns</p>\n",
       "</div>"
      ],
      "text/plain": [
       "                             side_a side_a_id                side_b side_b_id\n",
       "0               Government of India       141                  GNLA      1163\n",
       "1               Government of India       141                  GNLA      1163\n",
       "2               Government of Egypt       117  Government of Israel       121\n",
       "3               Government of Egypt       117  Government of Israel       121\n",
       "4               Government of Egypt       117  Government of Israel       121\n",
       "...                             ...       ...                   ...       ...\n",
       "2747  Government of Myanmar (Burma)       144                  LNUP       889\n",
       "2748  Government of Myanmar (Burma)       144                  LNUP       889\n",
       "2749  Government of Myanmar (Burma)       144                  LNUP       889\n",
       "2750  Government of Myanmar (Burma)       144                  LNUP       889\n",
       "2751       Government of Mauritania        74                  AQIM       539\n",
       "\n",
       "[2752 rows x 4 columns]"
      ]
     },
     "execution_count": 3,
     "metadata": {},
     "output_type": "execute_result"
    }
   ],
   "source": [
    "sides_df"
   ]
  },
  {
   "cell_type": "markdown",
   "metadata": {},
   "source": [
    "# Creating the Network"
   ]
  },
  {
   "cell_type": "code",
   "execution_count": 4,
   "metadata": {},
   "outputs": [
    {
     "name": "stdout",
     "output_type": "stream",
     "text": [
      "Warning: When  cdn_resources is 'local' jupyter notebook has issues displaying graphics on chrome/safari. Use cdn_resources='in_line' or cdn_resources='remote' if you have issues viewing graphics in a notebook.\n",
      "network.html\n"
     ]
    },
    {
     "data": {
      "text/html": [
       "\n",
       "        <iframe\n",
       "            width=\"100%\"\n",
       "            height=\"750px\"\n",
       "            src=\"network.html\"\n",
       "            frameborder=\"0\"\n",
       "            allowfullscreen\n",
       "            \n",
       "        ></iframe>\n",
       "        "
      ],
      "text/plain": [
       "<IPython.lib.display.IFrame at 0x7f8e33f4cbc0>"
      ]
     },
     "execution_count": 4,
     "metadata": {},
     "output_type": "execute_result"
    }
   ],
   "source": [
    "from pyvis.network import Network\n",
    "\n",
    "net = Network(notebook=True, height=\"750px\", width=\"100%\", bgcolor=\"#222222\", font_color=\"white\")\n",
    "\n",
    "# Add edges from DataFrame\n",
    "for _, row in sides_df.iterrows():\n",
    "    net.add_node(row[\"side_a\"], label=row[\"side_a\"])\n",
    "    net.add_node(row[\"side_b\"], label=row[\"side_b\"])\n",
    "    net.add_edge(row[\"side_a\"], row[\"side_b\"])\n",
    "\n",
    "# Show network\n",
    "net.show(\"network.html\")\n"
   ]
  },
  {
   "cell_type": "code",
   "execution_count": 5,
   "metadata": {},
   "outputs": [],
   "source": [
    "edges = sides_df.groupby([\"side_a\", \"side_b\"]).size().reset_index(name=\"weight\")\n",
    "\n",
    "G = nx.from_pandas_edgelist(edges, \"side_a\", \"side_b\", edge_attr=\"weight\")\n",
    "\n",
    "pr = nx.pagerank(G, weight=\"weight\")"
   ]
  },
  {
   "cell_type": "code",
   "execution_count": 6,
   "metadata": {},
   "outputs": [],
   "source": [
    "pr_df = pd.DataFrame(pr.items(), columns=[\"node\", \"pagerank\"])"
   ]
  },
  {
   "cell_type": "code",
   "execution_count": 7,
   "metadata": {},
   "outputs": [],
   "source": [
    "pr_df = pr_df.sort_values(\"pagerank\", ascending=False)"
   ]
  },
  {
   "cell_type": "markdown",
   "metadata": {},
   "source": [
    "# Visualization"
   ]
  },
  {
   "cell_type": "code",
   "execution_count": 8,
   "metadata": {
    "scrolled": true
   },
   "outputs": [],
   "source": [
    "norm = mcolors.Normalize(vmin=pr_df[\"pagerank\"].min(), vmax=pr_df[\"pagerank\"].max())\n",
    "cmap = matplotlib.colormaps[\"coolwarm\"]\n",
    "\n",
    "net = Network(height=\"750px\", width=\"100%\", bgcolor=\"#222222\", font_color=\"white\")\n",
    "\n",
    "for _, row in pr_df.iterrows():\n",
    "    color = mcolors.to_hex(cmap(norm(row[\"pagerank\"])))\n",
    "    net.add_node(\n",
    "        row[\"node\"],\n",
    "        label=row[\"node\"],\n",
    "        size=row[\"pagerank\"] * 2000,   # scale factor, adjust as needed\n",
    "        color=color,\n",
    "        title=f\"PageRank: {row['pagerank']:.4f}\"  # tooltip\n",
    "    )\n",
    "\n",
    "for _, row in edges.iterrows():\n",
    "    if row[\"side_a\"] in pr and row[\"side_b\"] in pr:  # ensure nodes exist\n",
    "        net.add_edge(\n",
    "            row[\"side_a\"],\n",
    "            row[\"side_b\"],\n",
    "            value=row[\"weight\"]  # edge thickness\n",
    "        )\n",
    "\n",
    "net.write_html(\"network.html\")\n"
   ]
  },
  {
   "cell_type": "code",
   "execution_count": 9,
   "metadata": {},
   "outputs": [
    {
     "data": {
      "text/html": [
       "\n",
       "        <iframe\n",
       "            width=\"100%\"\n",
       "            height=\"750px\"\n",
       "            src=\"network.html\"\n",
       "            frameborder=\"0\"\n",
       "            allowfullscreen\n",
       "            \n",
       "        ></iframe>\n",
       "        "
      ],
      "text/plain": [
       "<IPython.lib.display.IFrame at 0x7f8e3364b590>"
      ]
     },
     "execution_count": 9,
     "metadata": {},
     "output_type": "execute_result"
    }
   ],
   "source": [
    "from IPython.display import IFrame\n",
    "IFrame(\"network.html\", width=\"100%\", height=\"750px\")\n"
   ]
  },
  {
   "cell_type": "markdown",
   "metadata": {},
   "source": [
    "# Highest PageRank Values"
   ]
  },
  {
   "cell_type": "code",
   "execution_count": 10,
   "metadata": {},
   "outputs": [
    {
     "data": {
      "text/html": [
       "<div>\n",
       "<style scoped>\n",
       "    .dataframe tbody tr th:only-of-type {\n",
       "        vertical-align: middle;\n",
       "    }\n",
       "\n",
       "    .dataframe tbody tr th {\n",
       "        vertical-align: top;\n",
       "    }\n",
       "\n",
       "    .dataframe thead th {\n",
       "        text-align: right;\n",
       "    }\n",
       "</style>\n",
       "<table border=\"1\" class=\"dataframe\">\n",
       "  <thead>\n",
       "    <tr style=\"text-align: right;\">\n",
       "      <th></th>\n",
       "      <th>node</th>\n",
       "      <th>pagerank</th>\n",
       "    </tr>\n",
       "  </thead>\n",
       "  <tbody>\n",
       "    <tr>\n",
       "      <th>144</th>\n",
       "      <td>Government of Myanmar (Burma)</td>\n",
       "      <td>0.030307</td>\n",
       "    </tr>\n",
       "    <tr>\n",
       "      <th>17</th>\n",
       "      <td>IS</td>\n",
       "      <td>0.024113</td>\n",
       "    </tr>\n",
       "    <tr>\n",
       "      <th>143</th>\n",
       "      <td>Government of India</td>\n",
       "      <td>0.022715</td>\n",
       "    </tr>\n",
       "    <tr>\n",
       "      <th>227</th>\n",
       "      <td>Government of Ethiopia</td>\n",
       "      <td>0.019596</td>\n",
       "    </tr>\n",
       "    <tr>\n",
       "      <th>622</th>\n",
       "      <td>Government of Sudan</td>\n",
       "      <td>0.014034</td>\n",
       "    </tr>\n",
       "    <tr>\n",
       "      <th>112</th>\n",
       "      <td>Government of Chad</td>\n",
       "      <td>0.014009</td>\n",
       "    </tr>\n",
       "    <tr>\n",
       "      <th>179</th>\n",
       "      <td>Government of DR Congo (Zaire)</td>\n",
       "      <td>0.013843</td>\n",
       "    </tr>\n",
       "    <tr>\n",
       "      <th>216</th>\n",
       "      <td>Government of Israel</td>\n",
       "      <td>0.012967</td>\n",
       "    </tr>\n",
       "    <tr>\n",
       "      <th>547</th>\n",
       "      <td>Government of Philippines</td>\n",
       "      <td>0.012919</td>\n",
       "    </tr>\n",
       "    <tr>\n",
       "      <th>0</th>\n",
       "      <td>Government of Afghanistan</td>\n",
       "      <td>0.012501</td>\n",
       "    </tr>\n",
       "  </tbody>\n",
       "</table>\n",
       "</div>"
      ],
      "text/plain": [
       "                               node  pagerank\n",
       "144   Government of Myanmar (Burma)  0.030307\n",
       "17                               IS  0.024113\n",
       "143             Government of India  0.022715\n",
       "227          Government of Ethiopia  0.019596\n",
       "622             Government of Sudan  0.014034\n",
       "112              Government of Chad  0.014009\n",
       "179  Government of DR Congo (Zaire)  0.013843\n",
       "216            Government of Israel  0.012967\n",
       "547       Government of Philippines  0.012919\n",
       "0         Government of Afghanistan  0.012501"
      ]
     },
     "execution_count": 10,
     "metadata": {},
     "output_type": "execute_result"
    }
   ],
   "source": [
    "pr_df.head(10)"
   ]
  },
  {
   "cell_type": "code",
   "execution_count": 11,
   "metadata": {},
   "outputs": [
    {
     "data": {
      "image/png": "[encoded data removed]",
      "text/plain": [
       "<Figure size 640x480 with 1 Axes>"
      ]
     },
     "metadata": {},
     "output_type": "display_data"
    }
   ],
   "source": [
    "plt.bar(pr_df.head(20)[\"node\"], pr_df.head(20)[\"pagerank\"] )\n",
    "plt.xticks(rotation=90, fontsize=8)\n",
    "\n",
    "plt.xlabel(\"Beligerent\") \n",
    "plt.ylabel(\"PageRank Value\")\n",
    "\n",
    "plt.title(\"Beligerent and their Corresponding Pagerank Value\")\n",
    "\n",
    "plt.show()"
   ]
  },
  {
   "cell_type": "markdown",
   "metadata": {},
   "source": [
    "# Interpretation and Conclusion"
   ]
  },
  {
   "cell_type": "code",
   "execution_count": null,
   "metadata": {},
   "outputs": [],
   "source": []
  }
 ],
 "metadata": {
  "colab": {
   "provenance": []
  },
  "kernelspec": {
   "display_name": "Python 3 (ipykernel)",
   "language": "python",
   "name": "python3"
  },
  "language_info": {
   "codemirror_mode": {
    "name": "ipython",
    "version": 3
   },
   "file_extension": ".py",
   "mimetype": "text/x-python",
   "name": "python",
   "nbconvert_exporter": "python",
   "pygments_lexer": "ipython3",
   "version": "3.12.3"
  }
 },
 "nbformat": 4,
 "nbformat_minor": 4
}
