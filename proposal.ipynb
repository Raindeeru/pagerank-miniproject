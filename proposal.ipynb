{
 "cells": [
  {
   "cell_type": "markdown",
   "id": "0863aaf8-8f15-4044-bda4-e88881bd7d6d",
   "metadata": {},
   "source": [
    "# An Analysis of State Relevance on International Affairs through their Relevance in Armed Conflict"
   ]
  },
  {
   "cell_type": "markdown",
   "id": "0cab43f1-6f50-4e14-b0b2-43276274bc10",
   "metadata": {},
   "source": [
    "## A.\n",
    "\n",
    "Analyses of states in terms of their international relevance usually revolve traditional analyses of measures such as their economy, military power, and diplomatic endeavors. This however does not take into account their relation in armed conflict around the world. Participation in conflict is arguably an important measure to take into account. Direct analysis of individual conflicts however is not enough and will not reflect that conflict and the states' involved impact on the international stage. "
   ]
  },
  {
   "cell_type": "markdown",
   "id": "d228e1f2-7d2e-4e66-8304-d3fb857079a8",
   "metadata": {},
   "source": [
    "## B.\n",
    "Using the PageRank algorithm we can create a network of states connected via their history of conflict between other states. Through this we can use the PageRank algorithm to determine a state's importance overall. What is solved here is that we do not only analyze local relevance, but rather the importance of state globally."
   ]
  },
  {
   "cell_type": "markdown",
   "id": "9ba08988-cd2e-4c92-8380-e96d92a8f1d4",
   "metadata": {},
   "source": [
    "## C. \n",
    "\n",
    "As mentioned, this will help in providing quantifiable data on a state's global relevance. Through this project we can find states that have the most relevance in terms of armed conflict. Hopefully the data found in this project will coincide with other metrics, as well as provide new insight."
   ]
  },
  {
   "cell_type": "code",
   "execution_count": null,
   "id": "fe77b72a-ab76-4fc4-a218-7c8eefe87042",
   "metadata": {},
   "outputs": [],
   "source": []
  }
 ],
 "metadata": {
  "kernelspec": {
   "display_name": "Python 3 (ipykernel)",
   "language": "python",
   "name": "python3"
  },
  "language_info": {
   "codemirror_mode": {
    "name": "ipython",
    "version": 3
   },
   "file_extension": ".py",
   "mimetype": "text/x-python",
   "name": "python",
   "nbconvert_exporter": "python",
   "pygments_lexer": "ipython3",
   "version": "3.12.3"
  }
 },
 "nbformat": 4,
 "nbformat_minor": 5
}
